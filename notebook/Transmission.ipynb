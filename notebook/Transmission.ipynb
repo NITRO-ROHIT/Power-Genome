{
 "cells": [
  {
   "cell_type": "markdown",
   "metadata": {},
   "source": [
    "# Transmission lines\n",
    "\n",
    "PowerGenome compiles information on the transmission constraints between model regions and the centroid-to-centroid distance between model regions."
   ]
  },
  {
   "cell_type": "code",
   "execution_count": 1,
   "metadata": {},
   "outputs": [],
   "source": [
    "%load_ext autoreload\n",
    "%autoreload 2"
   ]
  },
  {
   "cell_type": "code",
   "execution_count": 2,
   "metadata": {},
   "outputs": [],
   "source": [
    "from pathlib import Path\n",
    "\n",
    "import pandas as pd\n",
    "from powergenome.generators import load_ipm_shapefile\n",
    "from powergenome.GenX import (\n",
    "    network_line_loss,\n",
    "    network_max_reinforcement,\n",
    "    network_reinforcement_cost,\n",
    "    add_cap_res_network\n",
    ")\n",
    "from powergenome.transmission import (\n",
    "    agg_transmission_constraints,\n",
    "    transmission_line_distance,\n",
    ")\n",
    "from powergenome.util import (\n",
    "    init_pudl_connection, \n",
    "    load_settings,\n",
    "    check_settings\n",
    ")"
   ]
  },
  {
   "cell_type": "markdown",
   "metadata": {},
   "source": [
    "## Import settings"
   ]
  },
  {
   "cell_type": "code",
   "execution_count": 3,
   "metadata": {},
   "outputs": [],
   "source": [
    "pudl_engine, pudl_out, pg_engine = init_pudl_connection()\n",
    "cwd = Path.cwd()\n",
    "\n",
    "settings_path = (\n",
    "    cwd.parent / \"example_systems\" / \"CA_AZ\" / \"test_settings.yml\"\n",
    ")\n",
    "settings = load_settings(settings_path)\n",
    "settings[\"input_folder\"] = settings_path.parent / settings[\"input_folder\"]\n",
    "check_settings(settings, pg_engine)"
   ]
  },
  {
   "cell_type": "markdown",
   "metadata": {},
   "source": [
    "## Aggregate transmission constraints\n",
    "EPA provides bulk transmission constraints between IPM regions. PowerGenome combines these constraints across aggregated model regions. The required settings parameters are:\n",
    "- `model_regions`\n",
    "- `region_aggregations`"
   ]
  },
  {
   "cell_type": "code",
   "execution_count": 4,
   "metadata": {},
   "outputs": [
    {
     "data": {
      "text/plain": [
       "['CA_N', 'CA_S', 'WECC_AZ']"
      ]
     },
     "execution_count": 4,
     "metadata": {},
     "output_type": "execute_result"
    }
   ],
   "source": [
    "settings[\"model_regions\"]"
   ]
  },
  {
   "cell_type": "code",
   "execution_count": 5,
   "metadata": {},
   "outputs": [
    {
     "data": {
      "text/plain": [
       "{'CA_N': ['WEC_CALN', 'WEC_BANC'],\n",
       " 'CA_S': ['WEC_LADW', 'WECC_SCE', 'WEC_SDGE', 'WECC_IID']}"
      ]
     },
     "execution_count": 5,
     "metadata": {},
     "output_type": "execute_result"
    }
   ],
   "source": [
    "settings[\"region_aggregations\"]"
   ]
  },
  {
   "cell_type": "code",
   "execution_count": 6,
   "metadata": {},
   "outputs": [],
   "source": [
    "transmission = agg_transmission_constraints(pg_engine=pg_engine, settings=settings)"
   ]
  },
  {
   "cell_type": "code",
   "execution_count": 7,
   "metadata": {},
   "outputs": [
    {
     "data": {
      "text/html": [
       "<div>\n",
       "<style scoped>\n",
       "    .dataframe tbody tr th:only-of-type {\n",
       "        vertical-align: middle;\n",
       "    }\n",
       "\n",
       "    .dataframe tbody tr th {\n",
       "        vertical-align: top;\n",
       "    }\n",
       "\n",
       "    .dataframe thead th {\n",
       "        text-align: right;\n",
       "    }\n",
       "</style>\n",
       "<table border=\"1\" class=\"dataframe\">\n",
       "  <thead>\n",
       "    <tr style=\"text-align: right;\">\n",
       "      <th></th>\n",
       "      <th>Network_Lines</th>\n",
       "      <th>z1</th>\n",
       "      <th>z2</th>\n",
       "      <th>z3</th>\n",
       "      <th>Line_Max_Flow_MW</th>\n",
       "      <th>Line_Min_Flow_MW</th>\n",
       "      <th>transmission_path_name</th>\n",
       "    </tr>\n",
       "  </thead>\n",
       "  <tbody>\n",
       "    <tr>\n",
       "      <th>0</th>\n",
       "      <td>1</td>\n",
       "      <td>1</td>\n",
       "      <td>-1</td>\n",
       "      <td>0</td>\n",
       "      <td>3675.0</td>\n",
       "      <td>-3000.0</td>\n",
       "      <td>CA_N_to_CA_S</td>\n",
       "    </tr>\n",
       "    <tr>\n",
       "      <th>1</th>\n",
       "      <td>2</td>\n",
       "      <td>0</td>\n",
       "      <td>1</td>\n",
       "      <td>-1</td>\n",
       "      <td>3767.0</td>\n",
       "      <td>-4794.0</td>\n",
       "      <td>CA_S_to_WECC_AZ</td>\n",
       "    </tr>\n",
       "  </tbody>\n",
       "</table>\n",
       "</div>"
      ],
      "text/plain": [
       "   Network_Lines  z1  z2  z3  Line_Max_Flow_MW  Line_Min_Flow_MW  \\\n",
       "0              1   1  -1   0            3675.0           -3000.0   \n",
       "1              2   0   1  -1            3767.0           -4794.0   \n",
       "\n",
       "  transmission_path_name  \n",
       "0           CA_N_to_CA_S  \n",
       "1        CA_S_to_WECC_AZ  "
      ]
     },
     "execution_count": 7,
     "metadata": {},
     "output_type": "execute_result"
    }
   ],
   "source": [
    "transmission"
   ]
  },
  {
   "cell_type": "markdown",
   "metadata": {},
   "source": [
    "## Add centroid-to-centroid distance"
   ]
  },
  {
   "cell_type": "code",
   "execution_count": 8,
   "metadata": {},
   "outputs": [
    {
     "name": "stderr",
     "output_type": "stream",
     "text": [
      "/opt/miniconda3/envs/pg_pudl_update/lib/python3.9/site-packages/geopandas/geodataframe.py:1322: SettingWithCopyWarning: \n",
      "A value is trying to be set on a copy of a slice from a DataFrame.\n",
      "Try using .loc[row_indexer,col_indexer] = value instead\n",
      "\n",
      "See the caveats in the documentation: https://pandas.pydata.org/pandas-docs/stable/user_guide/indexing.html#returning-a-view-versus-a-copy\n",
      "  super(GeoDataFrame, self).__setitem__(key, value)\n",
      "/opt/miniconda3/envs/pg_pudl_update/lib/python3.9/site-packages/pandas/core/indexing.py:1676: SettingWithCopyWarning: \n",
      "A value is trying to be set on a copy of a slice from a DataFrame.\n",
      "Try using .loc[row_indexer,col_indexer] = value instead\n",
      "\n",
      "See the caveats in the documentation: https://pandas.pydata.org/pandas-docs/stable/user_guide/indexing.html#returning-a-view-versus-a-copy\n",
      "  self._setitem_single_column(ilocs[0], value, pi)\n"
     ]
    },
    {
     "data": {
      "text/html": [
       "<div>\n",
       "<style scoped>\n",
       "    .dataframe tbody tr th:only-of-type {\n",
       "        vertical-align: middle;\n",
       "    }\n",
       "\n",
       "    .dataframe tbody tr th {\n",
       "        vertical-align: top;\n",
       "    }\n",
       "\n",
       "    .dataframe thead th {\n",
       "        text-align: right;\n",
       "    }\n",
       "</style>\n",
       "<table border=\"1\" class=\"dataframe\">\n",
       "  <thead>\n",
       "    <tr style=\"text-align: right;\">\n",
       "      <th></th>\n",
       "      <th>IPM_Region</th>\n",
       "      <th>geometry</th>\n",
       "      <th>model_region</th>\n",
       "    </tr>\n",
       "  </thead>\n",
       "  <tbody>\n",
       "    <tr>\n",
       "      <th>0</th>\n",
       "      <td>WEC_BANC</td>\n",
       "      <td>MULTIPOLYGON (((-137062.964 -20577.766, -13352...</td>\n",
       "      <td>CA_N</td>\n",
       "    </tr>\n",
       "    <tr>\n",
       "      <th>1</th>\n",
       "      <td>WEC_CALN</td>\n",
       "      <td>MULTIPOLYGON (((-26905.041 -343681.519, -26858...</td>\n",
       "      <td>CA_N</td>\n",
       "    </tr>\n",
       "    <tr>\n",
       "      <th>2</th>\n",
       "      <td>WEC_LADW</td>\n",
       "      <td>MULTIPOLYGON (((147531.138 -578110.363, 147523...</td>\n",
       "      <td>CA_S</td>\n",
       "    </tr>\n",
       "    <tr>\n",
       "      <th>3</th>\n",
       "      <td>WEC_SDGE</td>\n",
       "      <td>MULTIPOLYGON (((261508.595 -578272.714, 261412...</td>\n",
       "      <td>CA_S</td>\n",
       "    </tr>\n",
       "    <tr>\n",
       "      <th>4</th>\n",
       "      <td>WECC_AZ</td>\n",
       "      <td>POLYGON ((971403.331 -56900.550, 1043399.918 -...</td>\n",
       "      <td>WECC_AZ</td>\n",
       "    </tr>\n",
       "    <tr>\n",
       "      <th>5</th>\n",
       "      <td>WECC_IID</td>\n",
       "      <td>POLYGON ((499663.896 -494815.927, 497706.026 -...</td>\n",
       "      <td>CA_S</td>\n",
       "    </tr>\n",
       "    <tr>\n",
       "      <th>6</th>\n",
       "      <td>WECC_SCE</td>\n",
       "      <td>MULTIPOLYGON (((43384.114 -525298.005, 50284.5...</td>\n",
       "      <td>CA_S</td>\n",
       "    </tr>\n",
       "  </tbody>\n",
       "</table>\n",
       "</div>"
      ],
      "text/plain": [
       "  IPM_Region                                           geometry model_region\n",
       "0   WEC_BANC  MULTIPOLYGON (((-137062.964 -20577.766, -13352...         CA_N\n",
       "1   WEC_CALN  MULTIPOLYGON (((-26905.041 -343681.519, -26858...         CA_N\n",
       "2   WEC_LADW  MULTIPOLYGON (((147531.138 -578110.363, 147523...         CA_S\n",
       "3   WEC_SDGE  MULTIPOLYGON (((261508.595 -578272.714, 261412...         CA_S\n",
       "4    WECC_AZ  POLYGON ((971403.331 -56900.550, 1043399.918 -...      WECC_AZ\n",
       "5   WECC_IID  POLYGON ((499663.896 -494815.927, 497706.026 -...         CA_S\n",
       "6   WECC_SCE  MULTIPOLYGON (((43384.114 -525298.005, 50284.5...         CA_S"
      ]
     },
     "execution_count": 8,
     "metadata": {},
     "output_type": "execute_result"
    }
   ],
   "source": [
    "model_regions_gdf = load_ipm_shapefile(settings)\n",
    "model_regions_gdf"
   ]
  },
  {
   "cell_type": "code",
   "execution_count": 9,
   "metadata": {},
   "outputs": [
    {
     "data": {
      "text/html": [
       "<div>\n",
       "<style scoped>\n",
       "    .dataframe tbody tr th:only-of-type {\n",
       "        vertical-align: middle;\n",
       "    }\n",
       "\n",
       "    .dataframe tbody tr th {\n",
       "        vertical-align: top;\n",
       "    }\n",
       "\n",
       "    .dataframe thead th {\n",
       "        text-align: right;\n",
       "    }\n",
       "</style>\n",
       "<table border=\"1\" class=\"dataframe\">\n",
       "  <thead>\n",
       "    <tr style=\"text-align: right;\">\n",
       "      <th></th>\n",
       "      <th>Network_Lines</th>\n",
       "      <th>z1</th>\n",
       "      <th>z2</th>\n",
       "      <th>z3</th>\n",
       "      <th>Line_Max_Flow_MW</th>\n",
       "      <th>Line_Min_Flow_MW</th>\n",
       "      <th>transmission_path_name</th>\n",
       "      <th>distance_mile</th>\n",
       "    </tr>\n",
       "  </thead>\n",
       "  <tbody>\n",
       "    <tr>\n",
       "      <th>0</th>\n",
       "      <td>1</td>\n",
       "      <td>1</td>\n",
       "      <td>-1</td>\n",
       "      <td>0</td>\n",
       "      <td>3675.0</td>\n",
       "      <td>-3000.0</td>\n",
       "      <td>CA_N_to_CA_S</td>\n",
       "      <td>336.613945</td>\n",
       "    </tr>\n",
       "    <tr>\n",
       "      <th>1</th>\n",
       "      <td>2</td>\n",
       "      <td>0</td>\n",
       "      <td>1</td>\n",
       "      <td>-1</td>\n",
       "      <td>3767.0</td>\n",
       "      <td>-4794.0</td>\n",
       "      <td>CA_S_to_WECC_AZ</td>\n",
       "      <td>320.961288</td>\n",
       "    </tr>\n",
       "  </tbody>\n",
       "</table>\n",
       "</div>"
      ],
      "text/plain": [
       "   Network_Lines  z1  z2  z3  Line_Max_Flow_MW  Line_Min_Flow_MW  \\\n",
       "0              1   1  -1   0            3675.0           -3000.0   \n",
       "1              2   0   1  -1            3767.0           -4794.0   \n",
       "\n",
       "  transmission_path_name  distance_mile  \n",
       "0           CA_N_to_CA_S     336.613945  \n",
       "1        CA_S_to_WECC_AZ     320.961288  "
      ]
     },
     "execution_count": 9,
     "metadata": {},
     "output_type": "execute_result"
    }
   ],
   "source": [
    "transmission_line_distance(\n",
    "    trans_constraints_df=transmission,\n",
    "    ipm_shapefile=model_regions_gdf,\n",
    "    settings=settings,\n",
    ")"
   ]
  },
  {
   "cell_type": "markdown",
   "metadata": {},
   "source": [
    "## Line loss, reinforcement costs, max reinforcement\n",
    "These functions use the settings parameters:\n",
    "- `transmission_investment_costs.tx.capex_mw_mile.<model_region>` (a nested dictionary with a single value for each region. Transmission between regions uses an average of the two values)\n",
    "- `transmission_investment_costs.tx.wacc` (a numeric value for the weighted average cost of capital within the nested dictionary)\n",
    "- `transmission_investment_costs.tx.investment_years` (a numeric value for the investment timeframe within the nested dictionary)\n",
    "- `tx_line_loss_100_miles`\n",
    "- `tx_expansion_per_period`\n",
    "\n",
    "Transmission costs within a model region are difficult to automate, because it is impossible to map a user-defined region to something like ReEDS cost regions. But I have created [a mapping of IPM regions to ReEDS regions](https://github.com/gschivley/pg_misc/blob/master/create_clusters/site_interconnection_costs.py#L32-L155) and the associated transmission costs."
   ]
  },
  {
   "cell_type": "code",
   "execution_count": 10,
   "metadata": {},
   "outputs": [
    {
     "data": {
      "text/plain": [
       "{'capex_mw_mile': {'CA_N': 3037.5, 'CA_S': 3037.5, 'WECC_AZ': 1350},\n",
       " 'wacc': 0.069,\n",
       " 'investment_years': 60}"
      ]
     },
     "execution_count": 10,
     "metadata": {},
     "output_type": "execute_result"
    }
   ],
   "source": [
    "settings[\"transmission_investment_cost\"][\"tx\"]"
   ]
  },
  {
   "cell_type": "code",
   "execution_count": 11,
   "metadata": {},
   "outputs": [
    {
     "data": {
      "text/plain": [
       "0.01"
      ]
     },
     "execution_count": 11,
     "metadata": {},
     "output_type": "execute_result"
    }
   ],
   "source": [
    "settings[\"tx_line_loss_100_miles\"]"
   ]
  },
  {
   "cell_type": "code",
   "execution_count": 12,
   "metadata": {},
   "outputs": [
    {
     "data": {
      "text/plain": [
       "1.0"
      ]
     },
     "execution_count": 12,
     "metadata": {},
     "output_type": "execute_result"
    }
   ],
   "source": [
    "settings[\"tx_expansion_per_period\"]"
   ]
  },
  {
   "cell_type": "code",
   "execution_count": 13,
   "metadata": {},
   "outputs": [
    {
     "data": {
      "text/html": [
       "<div>\n",
       "<style scoped>\n",
       "    .dataframe tbody tr th:only-of-type {\n",
       "        vertical-align: middle;\n",
       "    }\n",
       "\n",
       "    .dataframe tbody tr th {\n",
       "        vertical-align: top;\n",
       "    }\n",
       "\n",
       "    .dataframe thead th {\n",
       "        text-align: right;\n",
       "    }\n",
       "</style>\n",
       "<table border=\"1\" class=\"dataframe\">\n",
       "  <thead>\n",
       "    <tr style=\"text-align: right;\">\n",
       "      <th></th>\n",
       "      <th>Network_Lines</th>\n",
       "      <th>z1</th>\n",
       "      <th>z2</th>\n",
       "      <th>z3</th>\n",
       "      <th>Line_Max_Flow_MW</th>\n",
       "      <th>Line_Min_Flow_MW</th>\n",
       "      <th>transmission_path_name</th>\n",
       "      <th>distance_mile</th>\n",
       "      <th>Line_Loss_Percentage</th>\n",
       "    </tr>\n",
       "  </thead>\n",
       "  <tbody>\n",
       "    <tr>\n",
       "      <th>0</th>\n",
       "      <td>1</td>\n",
       "      <td>1</td>\n",
       "      <td>-1</td>\n",
       "      <td>0</td>\n",
       "      <td>3675.0</td>\n",
       "      <td>-3000.0</td>\n",
       "      <td>CA_N_to_CA_S</td>\n",
       "      <td>336.613945</td>\n",
       "      <td>0.033661</td>\n",
       "    </tr>\n",
       "    <tr>\n",
       "      <th>1</th>\n",
       "      <td>2</td>\n",
       "      <td>0</td>\n",
       "      <td>1</td>\n",
       "      <td>-1</td>\n",
       "      <td>3767.0</td>\n",
       "      <td>-4794.0</td>\n",
       "      <td>CA_S_to_WECC_AZ</td>\n",
       "      <td>320.961288</td>\n",
       "      <td>0.032096</td>\n",
       "    </tr>\n",
       "  </tbody>\n",
       "</table>\n",
       "</div>"
      ],
      "text/plain": [
       "   Network_Lines  z1  z2  z3  Line_Max_Flow_MW  Line_Min_Flow_MW  \\\n",
       "0              1   1  -1   0            3675.0           -3000.0   \n",
       "1              2   0   1  -1            3767.0           -4794.0   \n",
       "\n",
       "  transmission_path_name  distance_mile  Line_Loss_Percentage  \n",
       "0           CA_N_to_CA_S     336.613945              0.033661  \n",
       "1        CA_S_to_WECC_AZ     320.961288              0.032096  "
      ]
     },
     "execution_count": 13,
     "metadata": {},
     "output_type": "execute_result"
    }
   ],
   "source": [
    "network_line_loss(transmission=transmission, settings=settings)"
   ]
  },
  {
   "cell_type": "code",
   "execution_count": 14,
   "metadata": {},
   "outputs": [
    {
     "data": {
      "text/html": [
       "<div>\n",
       "<style scoped>\n",
       "    .dataframe tbody tr th:only-of-type {\n",
       "        vertical-align: middle;\n",
       "    }\n",
       "\n",
       "    .dataframe tbody tr th {\n",
       "        vertical-align: top;\n",
       "    }\n",
       "\n",
       "    .dataframe thead th {\n",
       "        text-align: right;\n",
       "    }\n",
       "</style>\n",
       "<table border=\"1\" class=\"dataframe\">\n",
       "  <thead>\n",
       "    <tr style=\"text-align: right;\">\n",
       "      <th></th>\n",
       "      <th>Network_Lines</th>\n",
       "      <th>z1</th>\n",
       "      <th>z2</th>\n",
       "      <th>z3</th>\n",
       "      <th>Line_Max_Flow_MW</th>\n",
       "      <th>Line_Min_Flow_MW</th>\n",
       "      <th>transmission_path_name</th>\n",
       "      <th>distance_mile</th>\n",
       "      <th>Line_Loss_Percentage</th>\n",
       "      <th>Line_Reinforcement_Cost_per_MWyr</th>\n",
       "    </tr>\n",
       "  </thead>\n",
       "  <tbody>\n",
       "    <tr>\n",
       "      <th>0</th>\n",
       "      <td>1</td>\n",
       "      <td>1</td>\n",
       "      <td>-1</td>\n",
       "      <td>0</td>\n",
       "      <td>3675.0</td>\n",
       "      <td>-3000.0</td>\n",
       "      <td>CA_N_to_CA_S</td>\n",
       "      <td>336.613945</td>\n",
       "      <td>0.033661</td>\n",
       "      <td>74223.0</td>\n",
       "    </tr>\n",
       "    <tr>\n",
       "      <th>1</th>\n",
       "      <td>2</td>\n",
       "      <td>0</td>\n",
       "      <td>1</td>\n",
       "      <td>-1</td>\n",
       "      <td>3767.0</td>\n",
       "      <td>-4794.0</td>\n",
       "      <td>CA_S_to_WECC_AZ</td>\n",
       "      <td>320.961288</td>\n",
       "      <td>0.032096</td>\n",
       "      <td>51113.0</td>\n",
       "    </tr>\n",
       "  </tbody>\n",
       "</table>\n",
       "</div>"
      ],
      "text/plain": [
       "   Network_Lines  z1  z2  z3  Line_Max_Flow_MW  Line_Min_Flow_MW  \\\n",
       "0              1   1  -1   0            3675.0           -3000.0   \n",
       "1              2   0   1  -1            3767.0           -4794.0   \n",
       "\n",
       "  transmission_path_name  distance_mile  Line_Loss_Percentage  \\\n",
       "0           CA_N_to_CA_S     336.613945              0.033661   \n",
       "1        CA_S_to_WECC_AZ     320.961288              0.032096   \n",
       "\n",
       "   Line_Reinforcement_Cost_per_MWyr  \n",
       "0                           74223.0  \n",
       "1                           51113.0  "
      ]
     },
     "execution_count": 14,
     "metadata": {},
     "output_type": "execute_result"
    }
   ],
   "source": [
    "network_reinforcement_cost(transmission=transmission, settings=settings)"
   ]
  },
  {
   "cell_type": "code",
   "execution_count": 15,
   "metadata": {},
   "outputs": [
    {
     "data": {
      "text/html": [
       "<div>\n",
       "<style scoped>\n",
       "    .dataframe tbody tr th:only-of-type {\n",
       "        vertical-align: middle;\n",
       "    }\n",
       "\n",
       "    .dataframe tbody tr th {\n",
       "        vertical-align: top;\n",
       "    }\n",
       "\n",
       "    .dataframe thead th {\n",
       "        text-align: right;\n",
       "    }\n",
       "</style>\n",
       "<table border=\"1\" class=\"dataframe\">\n",
       "  <thead>\n",
       "    <tr style=\"text-align: right;\">\n",
       "      <th></th>\n",
       "      <th>Network_Lines</th>\n",
       "      <th>z1</th>\n",
       "      <th>z2</th>\n",
       "      <th>z3</th>\n",
       "      <th>Line_Max_Flow_MW</th>\n",
       "      <th>Line_Min_Flow_MW</th>\n",
       "      <th>transmission_path_name</th>\n",
       "      <th>distance_mile</th>\n",
       "      <th>Line_Loss_Percentage</th>\n",
       "      <th>Line_Reinforcement_Cost_per_MWyr</th>\n",
       "      <th>Line_Max_Reinforcement_MW</th>\n",
       "    </tr>\n",
       "  </thead>\n",
       "  <tbody>\n",
       "    <tr>\n",
       "      <th>0</th>\n",
       "      <td>1</td>\n",
       "      <td>1</td>\n",
       "      <td>-1</td>\n",
       "      <td>0</td>\n",
       "      <td>3675.0</td>\n",
       "      <td>-3000.0</td>\n",
       "      <td>CA_N_to_CA_S</td>\n",
       "      <td>336.613945</td>\n",
       "      <td>0.033661</td>\n",
       "      <td>74223.0</td>\n",
       "      <td>3675.0</td>\n",
       "    </tr>\n",
       "    <tr>\n",
       "      <th>1</th>\n",
       "      <td>2</td>\n",
       "      <td>0</td>\n",
       "      <td>1</td>\n",
       "      <td>-1</td>\n",
       "      <td>3767.0</td>\n",
       "      <td>-4794.0</td>\n",
       "      <td>CA_S_to_WECC_AZ</td>\n",
       "      <td>320.961288</td>\n",
       "      <td>0.032096</td>\n",
       "      <td>51113.0</td>\n",
       "      <td>3767.0</td>\n",
       "    </tr>\n",
       "  </tbody>\n",
       "</table>\n",
       "</div>"
      ],
      "text/plain": [
       "   Network_Lines  z1  z2  z3  Line_Max_Flow_MW  Line_Min_Flow_MW  \\\n",
       "0              1   1  -1   0            3675.0           -3000.0   \n",
       "1              2   0   1  -1            3767.0           -4794.0   \n",
       "\n",
       "  transmission_path_name  distance_mile  Line_Loss_Percentage  \\\n",
       "0           CA_N_to_CA_S     336.613945              0.033661   \n",
       "1        CA_S_to_WECC_AZ     320.961288              0.032096   \n",
       "\n",
       "   Line_Reinforcement_Cost_per_MWyr  Line_Max_Reinforcement_MW  \n",
       "0                           74223.0                     3675.0  \n",
       "1                           51113.0                     3767.0  "
      ]
     },
     "execution_count": 15,
     "metadata": {},
     "output_type": "execute_result"
    }
   ],
   "source": [
    "network_max_reinforcement(transmission=transmission, settings=settings)"
   ]
  },
  {
   "cell_type": "code",
   "execution_count": 16,
   "metadata": {},
   "outputs": [],
   "source": [
    "transmission = agg_transmission_constraints(pg_engine=pg_engine, settings=settings)"
   ]
  },
  {
   "cell_type": "code",
   "execution_count": 17,
   "metadata": {},
   "outputs": [
    {
     "data": {
      "text/html": [
       "<div>\n",
       "<style scoped>\n",
       "    .dataframe tbody tr th:only-of-type {\n",
       "        vertical-align: middle;\n",
       "    }\n",
       "\n",
       "    .dataframe tbody tr th {\n",
       "        vertical-align: top;\n",
       "    }\n",
       "\n",
       "    .dataframe thead th {\n",
       "        text-align: right;\n",
       "    }\n",
       "</style>\n",
       "<table border=\"1\" class=\"dataframe\">\n",
       "  <thead>\n",
       "    <tr style=\"text-align: right;\">\n",
       "      <th></th>\n",
       "      <th>Network_Lines</th>\n",
       "      <th>z1</th>\n",
       "      <th>z2</th>\n",
       "      <th>z3</th>\n",
       "      <th>Line_Max_Flow_MW</th>\n",
       "      <th>Line_Min_Flow_MW</th>\n",
       "      <th>transmission_path_name</th>\n",
       "      <th>CapRes_1</th>\n",
       "      <th>CapRes_2</th>\n",
       "      <th>DerateCapRes_1</th>\n",
       "      <th>DerateCapRes_2</th>\n",
       "      <th>CapRes_Excl_1</th>\n",
       "      <th>CapRes_Excl_2</th>\n",
       "    </tr>\n",
       "  </thead>\n",
       "  <tbody>\n",
       "    <tr>\n",
       "      <th>0</th>\n",
       "      <td>1</td>\n",
       "      <td>1</td>\n",
       "      <td>-1</td>\n",
       "      <td>0</td>\n",
       "      <td>3675.0</td>\n",
       "      <td>-3000.0</td>\n",
       "      <td>CA_N_to_CA_S</td>\n",
       "      <td>0</td>\n",
       "      <td>0</td>\n",
       "      <td>0.95</td>\n",
       "      <td>0.95</td>\n",
       "      <td>0</td>\n",
       "      <td>0</td>\n",
       "    </tr>\n",
       "    <tr>\n",
       "      <th>1</th>\n",
       "      <td>2</td>\n",
       "      <td>0</td>\n",
       "      <td>1</td>\n",
       "      <td>-1</td>\n",
       "      <td>3767.0</td>\n",
       "      <td>-4794.0</td>\n",
       "      <td>CA_S_to_WECC_AZ</td>\n",
       "      <td>1</td>\n",
       "      <td>1</td>\n",
       "      <td>0.95</td>\n",
       "      <td>0.95</td>\n",
       "      <td>1</td>\n",
       "      <td>-1</td>\n",
       "    </tr>\n",
       "  </tbody>\n",
       "</table>\n",
       "</div>"
      ],
      "text/plain": [
       "   Network_Lines  z1  z2  z3  Line_Max_Flow_MW  Line_Min_Flow_MW  \\\n",
       "0              1   1  -1   0            3675.0           -3000.0   \n",
       "1              2   0   1  -1            3767.0           -4794.0   \n",
       "\n",
       "  transmission_path_name  CapRes_1  CapRes_2  DerateCapRes_1  DerateCapRes_2  \\\n",
       "0           CA_N_to_CA_S         0         0            0.95            0.95   \n",
       "1        CA_S_to_WECC_AZ         1         1            0.95            0.95   \n",
       "\n",
       "   CapRes_Excl_1  CapRes_Excl_2  \n",
       "0              0              0  \n",
       "1              1             -1  "
      ]
     },
     "execution_count": 17,
     "metadata": {},
     "output_type": "execute_result"
    }
   ],
   "source": [
    "add_cap_res_network(transmission, settings)"
   ]
  }
 ],
 "metadata": {
  "interpreter": {
   "hash": "5b6bea18085849e8db31c187c2b2d31536470856f66e9490d10280ec6298feaa"
  },
  "kernelspec": {
   "display_name": "Python 3.9.7 64-bit ('powergenome': conda)",
   "name": "python3"
  },
  "language_info": {
   "codemirror_mode": {
    "name": "ipython",
    "version": 3
   },
   "file_extension": ".py",
   "mimetype": "text/x-python",
   "name": "python",
   "nbconvert_exporter": "python",
   "pygments_lexer": "ipython3",
   "version": "3.9.7"
  }
 },
 "nbformat": 4,
 "nbformat_minor": 4
}
