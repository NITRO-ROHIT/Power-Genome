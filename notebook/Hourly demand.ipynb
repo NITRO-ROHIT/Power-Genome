{
 "cells": [
  {
   "cell_type": "markdown",
   "metadata": {},
   "source": [
    "# Hourly demand\n",
    "Base demand data is currently restricted to 2012, although it is possible for a user to load 2011 data from IPM that is stored in the PUDL database. The 2012 demand data are aligned with renewables generation data provided with PowerGenome, and with electrification profiles included in the [NREL Electrification Futures Study](https://data.nrel.gov/submissions/126). Although 2012 is a leap year with 8784 hours, PowerGenome removes February 29 by default. If this is a problem, [file an issue](https://github.com/gschivley/PowerGenome/issues) on GitHub and I'll look into making it optional.\n",
    "\n",
    "**NOTE:** All 2012 load profiles have been compiled using FERC 714 data. Hourly demand from each entity is mapped to the counties that they serve (using EIA 861), and re-apportioned to IPM regions based on population. Anomalies were detected and fixed using code developed by [Tyler Ruggles and David Farnham](https://github.com/truggles/EIA_Cleaned_Hourly_Electricity_Demand_Code). Loads in each region are then adjusted based on the ratio of FERC load in 2011 to IPM load in 2011. **Finally, all load has been shifted to UTC time, which matches generation profiles linked to in the README.** The regions `WECC_SNV`, `MIS_MO`, and `PJM_SMAC` have total/peak load that is more than 30% off from IPM 2011 data. Future versions of the data may use different allocation methods that also account for large industrial/commercial loads. I'll post any updated on the [PowerGenome groups.io](https://groups.io/g/powergenome) site.\n",
    "\n",
    "Hourly demand is one of the few remaining areas of PowerGenome where users may need to supply data, although this is limited to hourly profiles of demand response resources (possibly from the NREL data) and hourly profiles/capacity of distributed generation. Rooftop solar PV profiles can be obtained from sources such as NREL or [Renewables.ninja](https://www.renewables.ninja/).\n",
    "\n",
    "Examples of user-supplied data - including load profiles - are included in `example_system/extra_inputs`. The corresponding parameters are\n",
    "- `distributed_gen_profiles_fn`\n",
    "- `demand_response_fn`\n",
    "- `regional_load_fn` \n",
    "\n",
    "Note that if external load profiles include electrification/demand reponse load you should set the parameter `regional_load_includes_demand_response` to `True`. In this case the demand response profiles are used to calculate capacity of the resource in each planning year (in the new generators data), but they are not added to the load profiles.\n",
    "\n",
    "Distributed generation profiles, which are normalized from 0-1, can be scaled as either a fraction of total load (in cases where DG is part of an RPS set-aside) or according to a total capacity (where capacity projections are available). This is done using the parameters\n",
    "- `distributed_gen_method` (key: region name, value: `capacity` or `fraction_load`)\n",
    "- `distributed_gen_values` (nested dictionary for each planning year)\n",
    "- `avg_distribution_loss` (simplified as a single value for all regions, used to scale up DG when subtracting from total load)\n",
    "\n",
    "Final load profiles are calculated as follows:\n",
    "1. Read hourly load data from either the PUDL sqlite database or the user-supplied CSV file.\n",
    "2. If read from sqlite:  \n",
    "    a. Combine IPM regions into model regions using the `region_aggregations` parameter.  \n",
    "    b. Scale up hourly load from base year (2012) to 2018 using historical demand from EIA AEO electricity market module (EMM) regions (AEO 2014 and AEO 2019, IPM regions mapped to EMM regions in the parameter `historical_load_region_maps`). Scale from 2019 to the model year using AEO 2020. EIA changed AEO EMM regions in 2020, and IPM regions are mapped to the new EMM regions in the parameter `future_load_region_map`.   \n",
    "3. If loaded from sqlite, or user-supplied data and values do not include demand response, add DR profiles to load profiles (if hourly DR demand is supplied by the user).\n",
    "4. If distributed generation curves and scaling method/values are provided, subtract DG from load curves.\n",
    "\n",
    "\n"
   ]
  },
  {
   "cell_type": "code",
   "execution_count": 1,
   "metadata": {},
   "outputs": [],
   "source": [
    "%load_ext autoreload\n",
    "%autoreload 2"
   ]
  },
  {
   "cell_type": "code",
   "execution_count": 2,
   "metadata": {},
   "outputs": [],
   "source": [
    "from pathlib import Path\n",
    "\n",
    "import pandas as pd\n",
    "import numpy as np\n",
    "from powergenome.load_profiles import (\n",
    "    make_load_curves, \n",
    "    add_load_growth, \n",
    "    make_final_load_curves, \n",
    "    make_distributed_gen_profiles,\n",
    ")\n",
    "from powergenome.external_data import make_demand_response_profiles\n",
    "from powergenome.generators import GeneratorClusters\n",
    "from powergenome.util import (\n",
    "    build_scenario_settings,\n",
    "    init_pudl_connection,\n",
    "    load_settings,\n",
    "    reverse_dict_of_lists,\n",
    "    remove_feb_29,\n",
    "    check_settings\n",
    ")"
   ]
  },
  {
   "cell_type": "markdown",
   "metadata": {},
   "source": [
    "## Import settings\n",
    "This assumes that the settings file is set up for multiple scenarios/planning periods. If you are using a settings file with only a single scenario/planning period, remove or comment out the line with `build_scenario_settings`."
   ]
  },
  {
   "cell_type": "code",
   "execution_count": 3,
   "metadata": {},
   "outputs": [],
   "source": [
    "cwd = Path.cwd()\n",
    "\n",
    "settings_path = (\n",
    "    cwd.parent / \"example_systems\" / \"CA_AZ\" / \"test_settings.yml\"\n",
    ")\n",
    "settings = load_settings(settings_path)\n",
    "settings[\"input_folder\"] = settings_path.parent / settings[\"input_folder\"]\n",
    "scenario_definitions = pd.read_csv(\n",
    "    settings[\"input_folder\"] / settings[\"scenario_definitions_fn\"]\n",
    ")\n",
    "scenario_settings = build_scenario_settings(settings, scenario_definitions)\n",
    "\n",
    "pudl_engine, pudl_out, pg_engine = init_pudl_connection(\n",
    "    freq=\"AS\",\n",
    "    start_year=min(settings.get(\"data_years\")),\n",
    "    end_year=max(settings.get(\"data_years\")),\n",
    ")\n",
    "\n",
    "check_settings(settings, pg_engine)"
   ]
  },
  {
   "cell_type": "markdown",
   "metadata": {},
   "source": [
    "## Build load curves\n",
    "If you just want the final load curves that include any demand response/distributed generation, the function `make_final_load_curves` is all you need."
   ]
  },
  {
   "cell_type": "code",
   "execution_count": 4,
   "metadata": {},
   "outputs": [
    {
     "data": {
      "text/html": [
       "<div>\n",
       "<style scoped>\n",
       "    .dataframe tbody tr th:only-of-type {\n",
       "        vertical-align: middle;\n",
       "    }\n",
       "\n",
       "    .dataframe tbody tr th {\n",
       "        vertical-align: top;\n",
       "    }\n",
       "\n",
       "    .dataframe thead th {\n",
       "        text-align: right;\n",
       "    }\n",
       "</style>\n",
       "<table border=\"1\" class=\"dataframe\">\n",
       "  <thead>\n",
       "    <tr style=\"text-align: right;\">\n",
       "      <th>region</th>\n",
       "      <th>CA_N</th>\n",
       "      <th>CA_S</th>\n",
       "      <th>WECC_AZ</th>\n",
       "    </tr>\n",
       "    <tr>\n",
       "      <th>time_index</th>\n",
       "      <th></th>\n",
       "      <th></th>\n",
       "      <th></th>\n",
       "    </tr>\n",
       "  </thead>\n",
       "  <tbody>\n",
       "    <tr>\n",
       "      <th>1</th>\n",
       "      <td>14211</td>\n",
       "      <td>18064</td>\n",
       "      <td>10358</td>\n",
       "    </tr>\n",
       "    <tr>\n",
       "      <th>2</th>\n",
       "      <td>13539</td>\n",
       "      <td>17227</td>\n",
       "      <td>10054</td>\n",
       "    </tr>\n",
       "    <tr>\n",
       "      <th>3</th>\n",
       "      <td>12836</td>\n",
       "      <td>16394</td>\n",
       "      <td>9670</td>\n",
       "    </tr>\n",
       "    <tr>\n",
       "      <th>4</th>\n",
       "      <td>13052</td>\n",
       "      <td>14691</td>\n",
       "      <td>9545</td>\n",
       "    </tr>\n",
       "    <tr>\n",
       "      <th>5</th>\n",
       "      <td>12452</td>\n",
       "      <td>14045</td>\n",
       "      <td>9411</td>\n",
       "    </tr>\n",
       "    <tr>\n",
       "      <th>...</th>\n",
       "      <td>...</td>\n",
       "      <td>...</td>\n",
       "      <td>...</td>\n",
       "    </tr>\n",
       "    <tr>\n",
       "      <th>8756</th>\n",
       "      <td>13983</td>\n",
       "      <td>17833</td>\n",
       "      <td>11038</td>\n",
       "    </tr>\n",
       "    <tr>\n",
       "      <th>8757</th>\n",
       "      <td>15896</td>\n",
       "      <td>20164</td>\n",
       "      <td>11764</td>\n",
       "    </tr>\n",
       "    <tr>\n",
       "      <th>8758</th>\n",
       "      <td>16058</td>\n",
       "      <td>20372</td>\n",
       "      <td>11449</td>\n",
       "    </tr>\n",
       "    <tr>\n",
       "      <th>8759</th>\n",
       "      <td>15326</td>\n",
       "      <td>19448</td>\n",
       "      <td>11061</td>\n",
       "    </tr>\n",
       "    <tr>\n",
       "      <th>8760</th>\n",
       "      <td>14800</td>\n",
       "      <td>18801</td>\n",
       "      <td>10714</td>\n",
       "    </tr>\n",
       "  </tbody>\n",
       "</table>\n",
       "<p>8760 rows × 3 columns</p>\n",
       "</div>"
      ],
      "text/plain": [
       "region       CA_N   CA_S  WECC_AZ\n",
       "time_index                       \n",
       "1           14211  18064    10358\n",
       "2           13539  17227    10054\n",
       "3           12836  16394     9670\n",
       "4           13052  14691     9545\n",
       "5           12452  14045     9411\n",
       "...           ...    ...      ...\n",
       "8756        13983  17833    11038\n",
       "8757        15896  20164    11764\n",
       "8758        16058  20372    11449\n",
       "8759        15326  19448    11061\n",
       "8760        14800  18801    10714\n",
       "\n",
       "[8760 rows x 3 columns]"
      ]
     },
     "execution_count": 4,
     "metadata": {},
     "output_type": "execute_result"
    }
   ],
   "source": [
    "load_curves = make_final_load_curves(pg_engine, scenario_settings[2030][\"p1\"])\n",
    "load_curves"
   ]
  },
  {
   "cell_type": "code",
   "execution_count": 5,
   "metadata": {},
   "outputs": [
    {
     "data": {
      "text/plain": [
       "<AxesSubplot:xlabel='time_index'>"
      ]
     },
     "execution_count": 5,
     "metadata": {},
     "output_type": "execute_result"
    },
    {
     "data": {
      "image/png": "[encoded data removed]",
      "text/plain": [
       "<Figure size 432x288 with 1 Axes>"
      ]
     },
     "metadata": {
      "needs_background": "light"
     },
     "output_type": "display_data"
    }
   ],
   "source": [
    "load_curves.plot(alpha=0.5)"
   ]
  },
  {
   "cell_type": "markdown",
   "metadata": {},
   "source": [
    "## Load curve components\n",
    "\n",
    "The individual components of a final load curve can also be accessed."
   ]
  },
  {
   "cell_type": "markdown",
   "metadata": {},
   "source": [
    "### Scaled 2012 load"
   ]
  },
  {
   "cell_type": "code",
   "execution_count": 6,
   "metadata": {},
   "outputs": [],
   "source": [
    "scaled_load = make_load_curves(pg_engine, scenario_settings[2030][\"p1\"])"
   ]
  },
  {
   "cell_type": "markdown",
   "metadata": {},
   "source": [
    "### Demand response"
   ]
  },
  {
   "cell_type": "code",
   "execution_count": 7,
   "metadata": {},
   "outputs": [
    {
     "data": {
      "text/html": [
       "<div>\n",
       "<style scoped>\n",
       "    .dataframe tbody tr th:only-of-type {\n",
       "        vertical-align: middle;\n",
       "    }\n",
       "\n",
       "    .dataframe tbody tr th {\n",
       "        vertical-align: top;\n",
       "    }\n",
       "\n",
       "    .dataframe thead th {\n",
       "        text-align: right;\n",
       "    }\n",
       "</style>\n",
       "<table border=\"1\" class=\"dataframe\">\n",
       "  <thead>\n",
       "    <tr style=\"text-align: right;\">\n",
       "      <th></th>\n",
       "      <th>CA_N</th>\n",
       "      <th>CA_S</th>\n",
       "    </tr>\n",
       "  </thead>\n",
       "  <tbody>\n",
       "    <tr>\n",
       "      <th>0</th>\n",
       "      <td>52.8</td>\n",
       "      <td>68.1</td>\n",
       "    </tr>\n",
       "    <tr>\n",
       "      <th>1</th>\n",
       "      <td>49.3</td>\n",
       "      <td>63.6</td>\n",
       "    </tr>\n",
       "    <tr>\n",
       "      <th>2</th>\n",
       "      <td>19.0</td>\n",
       "      <td>24.5</td>\n",
       "    </tr>\n",
       "    <tr>\n",
       "      <th>3</th>\n",
       "      <td>14.4</td>\n",
       "      <td>18.6</td>\n",
       "    </tr>\n",
       "    <tr>\n",
       "      <th>4</th>\n",
       "      <td>9.1</td>\n",
       "      <td>11.8</td>\n",
       "    </tr>\n",
       "    <tr>\n",
       "      <th>...</th>\n",
       "      <td>...</td>\n",
       "      <td>...</td>\n",
       "    </tr>\n",
       "    <tr>\n",
       "      <th>8755</th>\n",
       "      <td>367.7</td>\n",
       "      <td>474.1</td>\n",
       "    </tr>\n",
       "    <tr>\n",
       "      <th>8756</th>\n",
       "      <td>357.6</td>\n",
       "      <td>461.0</td>\n",
       "    </tr>\n",
       "    <tr>\n",
       "      <th>8757</th>\n",
       "      <td>302.8</td>\n",
       "      <td>390.3</td>\n",
       "    </tr>\n",
       "    <tr>\n",
       "      <th>8758</th>\n",
       "      <td>52.8</td>\n",
       "      <td>68.1</td>\n",
       "    </tr>\n",
       "    <tr>\n",
       "      <th>8759</th>\n",
       "      <td>52.8</td>\n",
       "      <td>68.1</td>\n",
       "    </tr>\n",
       "  </tbody>\n",
       "</table>\n",
       "<p>8760 rows × 2 columns</p>\n",
       "</div>"
      ],
      "text/plain": [
       "       CA_N   CA_S\n",
       "0      52.8   68.1\n",
       "1      49.3   63.6\n",
       "2      19.0   24.5\n",
       "3      14.4   18.6\n",
       "4       9.1   11.8\n",
       "...     ...    ...\n",
       "8755  367.7  474.1\n",
       "8756  357.6  461.0\n",
       "8757  302.8  390.3\n",
       "8758   52.8   68.1\n",
       "8759   52.8   68.1\n",
       "\n",
       "[8760 rows x 2 columns]"
      ]
     },
     "execution_count": 7,
     "metadata": {},
     "output_type": "execute_result"
    }
   ],
   "source": [
    "dr_path = settings[\"input_folder\"] / settings[\"demand_response_fn\"]\n",
    "dr_types = settings[\"demand_response_resources\"][scenario_settings[2030][\"p1\"][\"model_year\"]].keys()\n",
    "dr_profiles = make_demand_response_profiles(dr_path, list(dr_types)[0], scenario_settings[2030][\"p1\"])\n",
    "dr_profiles"
   ]
  },
  {
   "cell_type": "markdown",
   "metadata": {},
   "source": [
    "### Distributed generation"
   ]
  },
  {
   "cell_type": "code",
   "execution_count": 8,
   "metadata": {},
   "outputs": [
    {
     "data": {
      "text/html": [
       "<div>\n",
       "<style scoped>\n",
       "    .dataframe tbody tr th:only-of-type {\n",
       "        vertical-align: middle;\n",
       "    }\n",
       "\n",
       "    .dataframe tbody tr th {\n",
       "        vertical-align: top;\n",
       "    }\n",
       "\n",
       "    .dataframe thead th {\n",
       "        text-align: right;\n",
       "    }\n",
       "</style>\n",
       "<table border=\"1\" class=\"dataframe\">\n",
       "  <thead>\n",
       "    <tr style=\"text-align: right;\">\n",
       "      <th></th>\n",
       "      <th>CA_N</th>\n",
       "      <th>CA_S</th>\n",
       "    </tr>\n",
       "  </thead>\n",
       "  <tbody>\n",
       "    <tr>\n",
       "      <th>0</th>\n",
       "      <td>0.0</td>\n",
       "      <td>0.0</td>\n",
       "    </tr>\n",
       "    <tr>\n",
       "      <th>1</th>\n",
       "      <td>0.0</td>\n",
       "      <td>0.0</td>\n",
       "    </tr>\n",
       "    <tr>\n",
       "      <th>2</th>\n",
       "      <td>0.0</td>\n",
       "      <td>0.0</td>\n",
       "    </tr>\n",
       "    <tr>\n",
       "      <th>3</th>\n",
       "      <td>0.0</td>\n",
       "      <td>0.0</td>\n",
       "    </tr>\n",
       "    <tr>\n",
       "      <th>4</th>\n",
       "      <td>0.0</td>\n",
       "      <td>0.0</td>\n",
       "    </tr>\n",
       "    <tr>\n",
       "      <th>...</th>\n",
       "      <td>...</td>\n",
       "      <td>...</td>\n",
       "    </tr>\n",
       "    <tr>\n",
       "      <th>8755</th>\n",
       "      <td>0.0</td>\n",
       "      <td>0.0</td>\n",
       "    </tr>\n",
       "    <tr>\n",
       "      <th>8756</th>\n",
       "      <td>0.0</td>\n",
       "      <td>0.0</td>\n",
       "    </tr>\n",
       "    <tr>\n",
       "      <th>8757</th>\n",
       "      <td>0.0</td>\n",
       "      <td>0.0</td>\n",
       "    </tr>\n",
       "    <tr>\n",
       "      <th>8758</th>\n",
       "      <td>0.0</td>\n",
       "      <td>0.0</td>\n",
       "    </tr>\n",
       "    <tr>\n",
       "      <th>8759</th>\n",
       "      <td>0.0</td>\n",
       "      <td>0.0</td>\n",
       "    </tr>\n",
       "  </tbody>\n",
       "</table>\n",
       "<p>8760 rows × 2 columns</p>\n",
       "</div>"
      ],
      "text/plain": [
       "      CA_N  CA_S\n",
       "0      0.0   0.0\n",
       "1      0.0   0.0\n",
       "2      0.0   0.0\n",
       "3      0.0   0.0\n",
       "4      0.0   0.0\n",
       "...    ...   ...\n",
       "8755   0.0   0.0\n",
       "8756   0.0   0.0\n",
       "8757   0.0   0.0\n",
       "8758   0.0   0.0\n",
       "8759   0.0   0.0\n",
       "\n",
       "[8760 rows x 2 columns]"
      ]
     },
     "execution_count": 8,
     "metadata": {},
     "output_type": "execute_result"
    }
   ],
   "source": [
    "dg_profiles = make_distributed_gen_profiles(pg_engine, scenario_settings[2030][\"p1\"])\n",
    "dg_profiles"
   ]
  }
 ],
 "metadata": {
  "interpreter": {
   "hash": "5b6bea18085849e8db31c187c2b2d31536470856f66e9490d10280ec6298feaa"
  },
  "kernelspec": {
   "display_name": "Python 3.9.7 64-bit ('powergenome': conda)",
   "name": "python3"
  },
  "language_info": {
   "codemirror_mode": {
    "name": "ipython",
    "version": 3
   },
   "file_extension": ".py",
   "mimetype": "text/x-python",
   "name": "python",
   "nbconvert_exporter": "python",
   "pygments_lexer": "ipython3",
   "version": "3.9.7"
  }
 },
 "nbformat": 4,
 "nbformat_minor": 4
}
